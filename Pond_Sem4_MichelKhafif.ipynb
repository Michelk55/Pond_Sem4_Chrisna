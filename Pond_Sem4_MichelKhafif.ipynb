{
  "cells": [
    {
      "cell_type": "code",
      "execution_count": 1,
      "metadata": {
        "colab": {
          "base_uri": "https://localhost:8080/"
        },
        "id": "17XHxzt2CceP",
        "outputId": "b6a5771f-7c4e-4fef-a8dc-4109096ae9a7"
      },
      "outputs": [
        {
          "output_type": "stream",
          "name": "stdout",
          "text": [
            "Requirement already satisfied: gdown in /usr/local/lib/python3.12/dist-packages (5.2.0)\n",
            "Requirement already satisfied: beautifulsoup4 in /usr/local/lib/python3.12/dist-packages (from gdown) (4.13.5)\n",
            "Requirement already satisfied: filelock in /usr/local/lib/python3.12/dist-packages (from gdown) (3.19.1)\n",
            "Requirement already satisfied: requests[socks] in /usr/local/lib/python3.12/dist-packages (from gdown) (2.32.4)\n",
            "Requirement already satisfied: tqdm in /usr/local/lib/python3.12/dist-packages (from gdown) (4.67.1)\n",
            "Requirement already satisfied: soupsieve>1.2 in /usr/local/lib/python3.12/dist-packages (from beautifulsoup4->gdown) (2.7)\n",
            "Requirement already satisfied: typing-extensions>=4.0.0 in /usr/local/lib/python3.12/dist-packages (from beautifulsoup4->gdown) (4.15.0)\n",
            "Requirement already satisfied: charset_normalizer<4,>=2 in /usr/local/lib/python3.12/dist-packages (from requests[socks]->gdown) (3.4.3)\n",
            "Requirement already satisfied: idna<4,>=2.5 in /usr/local/lib/python3.12/dist-packages (from requests[socks]->gdown) (3.10)\n",
            "Requirement already satisfied: urllib3<3,>=1.21.1 in /usr/local/lib/python3.12/dist-packages (from requests[socks]->gdown) (2.5.0)\n",
            "Requirement already satisfied: certifi>=2017.4.17 in /usr/local/lib/python3.12/dist-packages (from requests[socks]->gdown) (2025.8.3)\n",
            "Requirement already satisfied: PySocks!=1.5.7,>=1.5.6 in /usr/local/lib/python3.12/dist-packages (from requests[socks]->gdown) (1.7.1)\n"
          ]
        }
      ],
      "source": [
        "%pip install gdown\n",
        "import gdown"
      ]
    },
    {
      "cell_type": "code",
      "execution_count": 2,
      "metadata": {
        "colab": {
          "base_uri": "https://localhost:8080/",
          "height": 146
        },
        "id": "Z_Nok_RbDgg4",
        "outputId": "affc2827-605f-420d-9142-e44b23569ed5"
      },
      "outputs": [
        {
          "output_type": "stream",
          "name": "stderr",
          "text": [
            "Downloading...\n",
            "From (original): https://drive.google.com/uc?id=1u_OWAPkIdgJw1ah5xP_dGBFMSANxjxEl\n",
            "From (redirected): https://drive.google.com/uc?id=1u_OWAPkIdgJw1ah5xP_dGBFMSANxjxEl&confirm=t&uuid=1cb5e7d4-3a4d-4591-8d93-7edcaa84454b\n",
            "To: /content/dataset.csv\n",
            "100%|██████████| 151M/151M [00:03<00:00, 48.8MB/s]\n"
          ]
        },
        {
          "output_type": "execute_result",
          "data": {
            "text/plain": [
              "'dataset.csv'"
            ],
            "application/vnd.google.colaboratory.intrinsic+json": {
              "type": "string"
            }
          },
          "metadata": {},
          "execution_count": 2
        }
      ],
      "source": [
        "arquivo_destino_colab = \"dataset.csv\"\n",
        "doc_id = \"1u_OWAPkIdgJw1ah5xP_dGBFMSANxjxEl\"\n",
        "URL = f\"https://drive.google.com/uc?id={doc_id}\"\n",
        "gdown.download(URL, arquivo_destino_colab, quiet=False)"
      ]
    },
    {
      "cell_type": "code",
      "source": [
        "%pip install -q scikeras tensorflow imbalanced-learn\n"
      ],
      "metadata": {
        "id": "DTMb69zCOGUT"
      },
      "execution_count": 3,
      "outputs": []
    },
    {
      "cell_type": "code",
      "source": [
        "import numpy as np\n",
        "import pandas as pd\n",
        "from sklearn.model_selection import train_test_split, StratifiedKFold, RandomizedSearchCV, GridSearchCV\n",
        "from sklearn.preprocessing import StandardScaler\n",
        "from sklearn.metrics import precision_score, recall_score, f1_score, roc_auc_score, roc_curve, precision_recall_curve, confusion_matrix, classification_report\n",
        "from sklearn.utils.class_weight import compute_class_weight\n",
        "import matplotlib.pyplot as plt\n",
        "import tensorflow as tf\n",
        "from tensorflow.keras import Sequential\n",
        "from tensorflow.keras.layers import Dense, Dropout\n",
        "from tensorflow.keras.regularizers import l2\n",
        "from tensorflow.keras.callbacks import EarlyStopping\n",
        "from scikeras.wrappers import KerasClassifier\n",
        "np.random.seed(42)\n",
        "tf.random.set_seed(42)\n"
      ],
      "metadata": {
        "id": "86-yxoizOJnF"
      },
      "execution_count": 4,
      "outputs": []
    },
    {
      "cell_type": "code",
      "source": [
        "df = pd.read_csv(\"dataset.csv\")\n",
        "candidatos = [\"Class\",\"class\",\"Fraud\",\"fraud\",\"isFraud\",\"target\",\"Target\",\"label\",\"Label\",\"fraude\",\"y\"]\n",
        "alvo = None\n",
        "for c in df.columns:\n",
        "    if c in candidatos:\n",
        "        alvo = c\n",
        "        break\n",
        "if alvo is None:\n",
        "    bin_cols = []\n",
        "    for c in df.columns:\n",
        "        vals = pd.Series(df[c]).dropna().unique()\n",
        "        if len(vals) <= 3:\n",
        "            try:\n",
        "                s = set(pd.Series(vals).astype(int).tolist())\n",
        "                if s.issubset({0,1}):\n",
        "                    bin_cols.append(c)\n",
        "            except:\n",
        "                pass\n",
        "    alvo = bin_cols[0] if len(bin_cols) > 0 else df.columns[-1]\n",
        "y = df[alvo].astype(int)\n",
        "X = df.drop(columns=[alvo])\n",
        "X = pd.get_dummies(X, drop_first=True)\n",
        "X_train, X_test, y_train, y_test = train_test_split(X.values, y.values, test_size=0.2, stratify=y.values if len(np.unique(y.values))>1 else None, random_state=42)\n",
        "scaler = StandardScaler()\n",
        "X_train = scaler.fit_transform(X_train)\n",
        "X_test = scaler.transform(X_test)\n",
        "classes = np.unique(y_train)\n",
        "cw = compute_class_weight(class_weight=\"balanced\", classes=classes, y=y_train)\n",
        "class_weight_dict = {int(classes[i]): float(cw[i]) for i in range(len(classes))}\n"
      ],
      "metadata": {
        "id": "8euNNW_XOOmL"
      },
      "execution_count": 5,
      "outputs": []
    },
    {
      "cell_type": "code",
      "source": [
        "def build_model(n_hidden_layers=2, units=64, dropout=0.2, learning_rate=1e-3, l2_reg=0.0, optimizer=\"adam\", meta=None, **kwargs):\n",
        "    n_features = X_train.shape[1]\n",
        "    if meta is not None:\n",
        "        try:\n",
        "            n_features = int(meta.get(\"n_features_in_\", n_features))\n",
        "        except Exception:\n",
        "            pass\n",
        "    model = Sequential()\n",
        "    for i in range(int(n_hidden_layers)):\n",
        "        if i == 0:\n",
        "            model.add(Dense(int(units), activation=\"relu\", kernel_regularizer=l2(l2_reg), input_dim=n_features))\n",
        "        else:\n",
        "            model.add(Dense(int(units), activation=\"relu\", kernel_regularizer=l2(l2_reg)))\n",
        "        if float(dropout) > 0:\n",
        "            model.add(Dropout(float(dropout)))\n",
        "    model.add(Dense(1, activation=\"sigmoid\"))\n",
        "    opt = tf.keras.optimizers.Adam(learning_rate=float(learning_rate)) if optimizer == \"adam\" else tf.keras.optimizers.RMSprop(learning_rate=float(learning_rate))\n",
        "    model.compile(optimizer=opt, loss=\"binary_crossentropy\", metrics=[tf.keras.metrics.AUC(name=\"auc\"), tf.keras.metrics.Precision(name=\"precision\"), tf.keras.metrics.Recall(name=\"recall\")])\n",
        "    return model\n"
      ],
      "metadata": {
        "id": "esfHyHMhO8Zo"
      },
      "execution_count": 10,
      "outputs": []
    },
    {
      "cell_type": "code",
      "source": [
        "baseline = build_model()\n",
        "es = EarlyStopping(monitor=\"val_loss\", patience=5, restore_best_weights=True)\n",
        "history = baseline.fit(X_train, y_train, epochs=40, batch_size=256, validation_split=0.2, callbacks=[es], class_weight=class_weight_dict, verbose=0)\n",
        "y_prob_base = baseline.predict(X_test, verbose=0).ravel()\n",
        "metrics_base = evaluate_model(y_test, y_prob_base, threshold=0.5)\n",
        "cm_base = confusion_matrix(y_test, (y_prob_base>=0.5).astype(int))\n",
        "cr_base = classification_report(y_test, (y_prob_base>=0.5).astype(int), digits=4)\n"
      ],
      "metadata": {
        "colab": {
          "base_uri": "https://localhost:8080/"
        },
        "id": "yz8tz2HrO9zL",
        "outputId": "e784f774-a20a-47fa-d27a-f8d950957b4f"
      },
      "execution_count": 11,
      "outputs": [
        {
          "output_type": "stream",
          "name": "stderr",
          "text": [
            "/usr/local/lib/python3.12/dist-packages/keras/src/layers/core/dense.py:93: UserWarning: Do not pass an `input_shape`/`input_dim` argument to a layer. When using Sequential models, prefer using an `Input(shape)` object as the first layer in the model instead.\n",
            "  super().__init__(activity_regularizer=activity_regularizer, **kwargs)\n"
          ]
        }
      ]
    },
    {
      "cell_type": "code",
      "source": [
        "import random, itertools, numpy as np, pandas as pd\n",
        "from sklearn.metrics import classification_report, confusion_matrix\n",
        "\n",
        "def fit_model_with_params(params):\n",
        "    model = build_model(\n",
        "        n_hidden_layers=params.get(\"n_hidden_layers\", 2),\n",
        "        units=params.get(\"units\", 64),\n",
        "        dropout=params.get(\"dropout\", 0.2),\n",
        "        learning_rate=params.get(\"learning_rate\", 1e-3),\n",
        "        l2_reg=params.get(\"l2_reg\", 0.0),\n",
        "        optimizer=params.get(\"optimizer\", \"adam\"),\n",
        "    )\n",
        "    es = EarlyStopping(monitor=\"val_loss\", patience=5, restore_best_weights=True)\n",
        "    history = model.fit(\n",
        "        X_train, y_train,\n",
        "        epochs=int(params.get(\"epochs\", 40)),\n",
        "        batch_size=int(params.get(\"batch_size\", 256)),\n",
        "        validation_split=0.2,\n",
        "        callbacks=[es],\n",
        "        class_weight=class_weight_dict,\n",
        "        verbose=0\n",
        "    )\n",
        "    val_auc = float(np.max(history.history.get(\"val_auc\", [0.0])))\n",
        "    y_prob = model.predict(X_test, verbose=0).ravel()\n",
        "    mets = evaluate_model(y_test, y_prob, threshold=0.5)\n",
        "    return {\"model\": model, \"val_auc\": val_auc, \"y_prob\": y_prob, \"metrics\": mets}\n",
        "\n",
        "random.seed(42)\n",
        "param_space = {\n",
        "    \"n_hidden_layers\": [1, 2, 3, 4],\n",
        "    \"units\": [32, 64, 128, 256],\n",
        "    \"dropout\": [0.0, 0.2, 0.3, 0.5],\n",
        "    \"learning_rate\": [1e-4, 3e-4, 1e-3, 3e-3, 1e-2],\n",
        "    \"l2_reg\": [0.0, 1e-5, 1e-4, 1e-3],\n",
        "    \"optimizer\": [\"adam\", \"rmsprop\"],\n",
        "    \"epochs\": [30, 50, 80],\n",
        "    \"batch_size\": [128, 256, 512],\n",
        "}\n",
        "\n",
        "def sample_params(space):\n",
        "    return {k: random.choice(v) for k, v in space.items()}\n",
        "\n",
        "best_rnd_run = None\n",
        "best_params_rnd = None\n",
        "for i in range(20):\n",
        "    params = sample_params(param_space)\n",
        "    run = fit_model_with_params(params)\n",
        "    if (best_rnd_run is None) or (run[\"val_auc\"] > best_rnd_run[\"val_auc\"]):\n",
        "        best_rnd_run = run\n",
        "        best_params_rnd = params\n",
        "\n",
        "y_prob_rnd = best_rnd_run[\"y_prob\"]\n",
        "metrics_rnd = best_rnd_run[\"metrics\"]\n",
        "cm_rnd = confusion_matrix(y_test, (y_prob_rnd >= 0.5).astype(int))\n",
        "cr_rnd = classification_report(y_test, (y_prob_rnd >= 0.5).astype(int), digits=4)\n"
      ],
      "metadata": {
        "colab": {
          "base_uri": "https://localhost:8080/"
        },
        "id": "N3Rr4cU8Pks0",
        "outputId": "90cbf86b-64e9-472a-fbd6-086f20b568b1"
      },
      "execution_count": 14,
      "outputs": [
        {
          "output_type": "stream",
          "name": "stderr",
          "text": [
            "/usr/local/lib/python3.12/dist-packages/keras/src/layers/core/dense.py:93: UserWarning: Do not pass an `input_shape`/`input_dim` argument to a layer. When using Sequential models, prefer using an `Input(shape)` object as the first layer in the model instead.\n",
            "  super().__init__(activity_regularizer=activity_regularizer, **kwargs)\n",
            "/usr/local/lib/python3.12/dist-packages/keras/src/layers/core/dense.py:93: UserWarning: Do not pass an `input_shape`/`input_dim` argument to a layer. When using Sequential models, prefer using an `Input(shape)` object as the first layer in the model instead.\n",
            "  super().__init__(activity_regularizer=activity_regularizer, **kwargs)\n",
            "/usr/local/lib/python3.12/dist-packages/keras/src/layers/core/dense.py:93: UserWarning: Do not pass an `input_shape`/`input_dim` argument to a layer. When using Sequential models, prefer using an `Input(shape)` object as the first layer in the model instead.\n",
            "  super().__init__(activity_regularizer=activity_regularizer, **kwargs)\n",
            "/usr/local/lib/python3.12/dist-packages/keras/src/layers/core/dense.py:93: UserWarning: Do not pass an `input_shape`/`input_dim` argument to a layer. When using Sequential models, prefer using an `Input(shape)` object as the first layer in the model instead.\n",
            "  super().__init__(activity_regularizer=activity_regularizer, **kwargs)\n",
            "/usr/local/lib/python3.12/dist-packages/keras/src/layers/core/dense.py:93: UserWarning: Do not pass an `input_shape`/`input_dim` argument to a layer. When using Sequential models, prefer using an `Input(shape)` object as the first layer in the model instead.\n",
            "  super().__init__(activity_regularizer=activity_regularizer, **kwargs)\n",
            "/usr/local/lib/python3.12/dist-packages/keras/src/layers/core/dense.py:93: UserWarning: Do not pass an `input_shape`/`input_dim` argument to a layer. When using Sequential models, prefer using an `Input(shape)` object as the first layer in the model instead.\n",
            "  super().__init__(activity_regularizer=activity_regularizer, **kwargs)\n",
            "/usr/local/lib/python3.12/dist-packages/keras/src/layers/core/dense.py:93: UserWarning: Do not pass an `input_shape`/`input_dim` argument to a layer. When using Sequential models, prefer using an `Input(shape)` object as the first layer in the model instead.\n",
            "  super().__init__(activity_regularizer=activity_regularizer, **kwargs)\n",
            "/usr/local/lib/python3.12/dist-packages/keras/src/layers/core/dense.py:93: UserWarning: Do not pass an `input_shape`/`input_dim` argument to a layer. When using Sequential models, prefer using an `Input(shape)` object as the first layer in the model instead.\n",
            "  super().__init__(activity_regularizer=activity_regularizer, **kwargs)\n",
            "/usr/local/lib/python3.12/dist-packages/keras/src/layers/core/dense.py:93: UserWarning: Do not pass an `input_shape`/`input_dim` argument to a layer. When using Sequential models, prefer using an `Input(shape)` object as the first layer in the model instead.\n",
            "  super().__init__(activity_regularizer=activity_regularizer, **kwargs)\n",
            "/usr/local/lib/python3.12/dist-packages/keras/src/layers/core/dense.py:93: UserWarning: Do not pass an `input_shape`/`input_dim` argument to a layer. When using Sequential models, prefer using an `Input(shape)` object as the first layer in the model instead.\n",
            "  super().__init__(activity_regularizer=activity_regularizer, **kwargs)\n",
            "/usr/local/lib/python3.12/dist-packages/keras/src/layers/core/dense.py:93: UserWarning: Do not pass an `input_shape`/`input_dim` argument to a layer. When using Sequential models, prefer using an `Input(shape)` object as the first layer in the model instead.\n",
            "  super().__init__(activity_regularizer=activity_regularizer, **kwargs)\n",
            "/usr/local/lib/python3.12/dist-packages/keras/src/layers/core/dense.py:93: UserWarning: Do not pass an `input_shape`/`input_dim` argument to a layer. When using Sequential models, prefer using an `Input(shape)` object as the first layer in the model instead.\n",
            "  super().__init__(activity_regularizer=activity_regularizer, **kwargs)\n",
            "/usr/local/lib/python3.12/dist-packages/keras/src/layers/core/dense.py:93: UserWarning: Do not pass an `input_shape`/`input_dim` argument to a layer. When using Sequential models, prefer using an `Input(shape)` object as the first layer in the model instead.\n",
            "  super().__init__(activity_regularizer=activity_regularizer, **kwargs)\n",
            "/usr/local/lib/python3.12/dist-packages/keras/src/layers/core/dense.py:93: UserWarning: Do not pass an `input_shape`/`input_dim` argument to a layer. When using Sequential models, prefer using an `Input(shape)` object as the first layer in the model instead.\n",
            "  super().__init__(activity_regularizer=activity_regularizer, **kwargs)\n",
            "/usr/local/lib/python3.12/dist-packages/keras/src/layers/core/dense.py:93: UserWarning: Do not pass an `input_shape`/`input_dim` argument to a layer. When using Sequential models, prefer using an `Input(shape)` object as the first layer in the model instead.\n",
            "  super().__init__(activity_regularizer=activity_regularizer, **kwargs)\n",
            "/usr/local/lib/python3.12/dist-packages/keras/src/layers/core/dense.py:93: UserWarning: Do not pass an `input_shape`/`input_dim` argument to a layer. When using Sequential models, prefer using an `Input(shape)` object as the first layer in the model instead.\n",
            "  super().__init__(activity_regularizer=activity_regularizer, **kwargs)\n",
            "/usr/local/lib/python3.12/dist-packages/keras/src/layers/core/dense.py:93: UserWarning: Do not pass an `input_shape`/`input_dim` argument to a layer. When using Sequential models, prefer using an `Input(shape)` object as the first layer in the model instead.\n",
            "  super().__init__(activity_regularizer=activity_regularizer, **kwargs)\n",
            "/usr/local/lib/python3.12/dist-packages/keras/src/layers/core/dense.py:93: UserWarning: Do not pass an `input_shape`/`input_dim` argument to a layer. When using Sequential models, prefer using an `Input(shape)` object as the first layer in the model instead.\n",
            "  super().__init__(activity_regularizer=activity_regularizer, **kwargs)\n",
            "/usr/local/lib/python3.12/dist-packages/keras/src/layers/core/dense.py:93: UserWarning: Do not pass an `input_shape`/`input_dim` argument to a layer. When using Sequential models, prefer using an `Input(shape)` object as the first layer in the model instead.\n",
            "  super().__init__(activity_regularizer=activity_regularizer, **kwargs)\n"
          ]
        }
      ]
    },
    {
      "cell_type": "code",
      "source": [
        "import itertools\n",
        "\n",
        "br = best_params_rnd\n",
        "\n",
        "grid = {\n",
        "    \"n_hidden_layers\": [br[\"n_hidden_layers\"]],\n",
        "    \"units\": [br[\"units\"], min(256, max(32, br[\"units\"]*2))],\n",
        "    \"dropout\": [br[\"dropout\"]],\n",
        "    \"learning_rate\": [br[\"learning_rate\"], min(1e-2, br[\"learning_rate\"]*3)],\n",
        "    \"l2_reg\": [br[\"l2_reg\"]],\n",
        "    \"optimizer\": [br[\"optimizer\"]],\n",
        "    \"epochs\": [br[\"epochs\"]],\n",
        "    \"batch_size\": [br[\"batch_size\"]]\n",
        "}\n",
        "\n",
        "keys = list(grid.keys())\n",
        "best_grd_run = None\n",
        "best_params_grd = None\n",
        "for values in itertools.product(*[grid[k] for k in keys]):\n",
        "    params = dict(zip(keys, values))\n",
        "    run = fit_model_with_params(params)\n",
        "    if (best_grd_run is None) or (run[\"val_auc\"] > best_grd_run[\"val_auc\"]):\n",
        "        best_grd_run = run\n",
        "        best_params_grd = params\n",
        "\n",
        "y_prob_grd = best_grd_run[\"y_prob\"]\n",
        "metrics_grd = best_grd_run[\"metrics\"]\n",
        "cm_grd = confusion_matrix(y_test, (y_prob_grd >= 0.5).astype(int))\n",
        "cr_grd = classification_report(y_test, (y_prob_grd >= 0.5).astype(int), digits=4)\n"
      ],
      "metadata": {
        "colab": {
          "base_uri": "https://localhost:8080/"
        },
        "id": "Jsbx6TuUZx_z",
        "outputId": "c038c971-7096-46ae-d08d-6c2ddbe43f55"
      },
      "execution_count": 16,
      "outputs": [
        {
          "output_type": "stream",
          "name": "stderr",
          "text": [
            "/usr/local/lib/python3.12/dist-packages/keras/src/layers/core/dense.py:93: UserWarning: Do not pass an `input_shape`/`input_dim` argument to a layer. When using Sequential models, prefer using an `Input(shape)` object as the first layer in the model instead.\n",
            "  super().__init__(activity_regularizer=activity_regularizer, **kwargs)\n",
            "/usr/local/lib/python3.12/dist-packages/keras/src/layers/core/dense.py:93: UserWarning: Do not pass an `input_shape`/`input_dim` argument to a layer. When using Sequential models, prefer using an `Input(shape)` object as the first layer in the model instead.\n",
            "  super().__init__(activity_regularizer=activity_regularizer, **kwargs)\n",
            "/usr/local/lib/python3.12/dist-packages/keras/src/layers/core/dense.py:93: UserWarning: Do not pass an `input_shape`/`input_dim` argument to a layer. When using Sequential models, prefer using an `Input(shape)` object as the first layer in the model instead.\n",
            "  super().__init__(activity_regularizer=activity_regularizer, **kwargs)\n"
          ]
        }
      ]
    },
    {
      "cell_type": "code",
      "source": [
        "results = pd.DataFrame(\n",
        "    [\n",
        "        [metrics_base[\"precision\"], metrics_base[\"recall\"], metrics_base[\"f1\"], metrics_base[\"auc\"]],\n",
        "        [metrics_rnd[\"precision\"], metrics_rnd[\"recall\"], metrics_rnd[\"f1\"], metrics_rnd[\"auc\"]],\n",
        "        [metrics_grd[\"precision\"], metrics_grd[\"recall\"], metrics_grd[\"f1\"], metrics_grd[\"auc\"]],\n",
        "    ],\n",
        "    columns=[\"precision\",\"recall\",\"f1\",\"auc\"],\n",
        "    index=[\"baseline\",\"random_search\",\"grid_search\"]\n",
        ")\n",
        "print(results)\n"
      ],
      "metadata": {
        "colab": {
          "base_uri": "https://localhost:8080/"
        },
        "id": "cE4dLn38fQn1",
        "outputId": "907aa17a-1242-453e-f71f-96f7463bd4b9"
      },
      "execution_count": 17,
      "outputs": [
        {
          "output_type": "stream",
          "name": "stdout",
          "text": [
            "               precision    recall        f1       auc\n",
            "baseline        0.160813  0.887755  0.272300  0.975261\n",
            "random_search   0.059500  0.897959  0.111604  0.986801\n",
            "grid_search     0.055485  0.897959  0.104513  0.973254\n"
          ]
        }
      ]
    },
    {
      "cell_type": "code",
      "source": [
        "from sklearn.metrics import roc_curve, precision_recall_curve\n",
        "import matplotlib.pyplot as plt\n",
        "\n",
        "fpr_b, tpr_b, _ = roc_curve(y_test, y_prob_base)\n",
        "fpr_r, tpr_r, _ = roc_curve(y_test, y_prob_rnd)\n",
        "fpr_g, tpr_g, _ = roc_curve(y_test, y_prob_grd)\n",
        "\n",
        "plt.figure(figsize=(6,5))\n",
        "plt.plot(fpr_b, tpr_b, label=f\"Baseline AUC={metrics_base['auc']:.4f}\")\n",
        "plt.plot(fpr_r, tpr_r, label=f\"RandomSearch AUC={metrics_rnd['auc']:.4f}\")\n",
        "plt.plot(fpr_g, tpr_g, label=f\"GridSearch AUC={metrics_grd['auc']:.4f}\")\n",
        "plt.plot([0,1],[0,1], linestyle=\"--\")\n",
        "plt.xlabel(\"FPR\")\n",
        "plt.ylabel(\"TPR\")\n",
        "plt.legend(loc=\"lower right\")\n",
        "plt.title(\"ROC\")\n",
        "plt.show()\n",
        "\n",
        "pr_b, rc_b, _ = precision_recall_curve(y_test, y_prob_base)\n",
        "pr_r, rc_r, _ = precision_recall_curve(y_test, y_prob_rnd)\n",
        "pr_g, rc_g, _ = precision_recall_curve(y_test, y_prob_grd)\n",
        "\n",
        "plt.figure(figsize=(6,5))\n",
        "plt.plot(rc_b, pr_b, label=\"Baseline\")\n",
        "plt.plot(rc_r, pr_r, label=\"RandomSearch\")\n",
        "plt.plot(rc_g, pr_g, label=\"GridSearch\")\n",
        "plt.xlabel(\"Recall\")\n",
        "plt.ylabel(\"Precision\")\n",
        "plt.legend(loc=\"lower left\")\n",
        "plt.title(\"Precision-Recall\")\n",
        "plt.show()\n"
      ],
      "metadata": {
        "colab": {
          "base_uri": "https://localhost:8080/",
          "height": 957
        },
        "id": "_Qm40Th2fYmR",
        "outputId": "6a205bbe-853b-43ed-82b5-46a2f24691f6"
      },
      "execution_count": 18,
      "outputs": [
        {
          "output_type": "display_data",
          "data": {
            "text/plain": [
              "<Figure size 600x500 with 1 Axes>"
            ],
            "image/png": "[encoded data removed]"
          },
          "metadata": {}
        },
        {
          "output_type": "display_data",
          "data": {
            "text/plain": [
              "<Figure size 600x500 with 1 Axes>"
            ],
            "image/png": "[encoded data removed]"
          },
          "metadata": {}
        }
      ]
    },
    {
      "cell_type": "code",
      "source": [
        "import json\n",
        "\n",
        "pd.DataFrame(cm_base, index=[\"Neg_True\",\"Pos_True\"], columns=[\"Neg_Pred\",\"Pos_Pred\"]).to_csv(\"confusion_matrix_baseline.csv\", index=True)\n",
        "pd.DataFrame(cm_rnd, index=[\"Neg_True\",\"Pos_True\"], columns=[\"Neg_Pred\",\"Pos_Pred\"]).to_csv(\"confusion_matrix_random_search.csv\", index=True)\n",
        "pd.DataFrame(cm_grd, index=[\"Neg_True\",\"Pos_True\"], columns=[\"Neg_Pred\",\"Pos_Pred\"]).to_csv(\"confusion_matrix_grid_search.csv\", index=True)\n",
        "\n",
        "open(\"classification_report_baseline.txt\",\"w\").write(cr_base)\n",
        "open(\"classification_report_random_search.txt\",\"w\").write(cr_rnd)\n",
        "open(\"classification_report_grid_search.txt\",\"w\").write(cr_grd)\n",
        "\n",
        "results.to_csv(\"metrics_summary.csv\", index=True)\n",
        "json.dump(best_params_rnd, open(\"best_params_random_search.json\",\"w\"))\n",
        "json.dump(best_params_grd, open(\"best_params_grid_search.json\",\"w\"))\n",
        "\n",
        "summary_md = f\"\"\"\n",
        "# Comparação de Modelos – Detecção de Fraude\n",
        "\n",
        "## Métricas (teste)\n",
        "{results.to_markdown()}\n",
        "\n",
        "## Melhores Hiperparâmetros\n",
        "- Random Search: {best_params_rnd}\n",
        "- Grid Search: {best_params_grd}\n",
        "\"\"\"\n",
        "open(\"README_metrics.md\",\"w\").write(summary_md)\n"
      ],
      "metadata": {
        "colab": {
          "base_uri": "https://localhost:8080/"
        },
        "id": "Utajix7Xfk4S",
        "outputId": "d3a7646f-c173-4b8a-ab1b-9062429c6678"
      },
      "execution_count": 19,
      "outputs": [
        {
          "output_type": "execute_result",
          "data": {
            "text/plain": [
              "745"
            ]
          },
          "metadata": {},
          "execution_count": 19
        }
      ]
    }
  ],
  "metadata": {
    "colab": {
      "provenance": []
    },
    "kernelspec": {
      "display_name": "Python 3",
      "name": "python3"
    },
    "language_info": {
      "name": "python"
    }
  },
  "nbformat": 4,
  "nbformat_minor": 0
}